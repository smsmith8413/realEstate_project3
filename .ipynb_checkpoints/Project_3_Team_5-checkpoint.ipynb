{
 "cells": [
  {
   "cell_type": "markdown",
   "metadata": {},
   "source": [
    "## Project_3_Team_5"
   ]
  },
  {
   "cell_type": "code",
   "execution_count": 5,
   "metadata": {},
   "outputs": [
    {
     "name": "stdout",
     "output_type": "stream",
     "text": [
      "Collecting pandas_profiling\n",
      "  Downloading https://files.pythonhosted.org/packages/b9/94/ef8ef4517540d13406fcc0b8adfd75336e014242c69bd4162ab46931f36a/pandas_profiling-2.8.0-py2.py3-none-any.whl (259kB)\n",
      "Collecting confuse>=1.0.0 (from pandas_profiling)\n",
      "  Downloading https://files.pythonhosted.org/packages/f7/64/85dbcea372efee5cba13eaa10a3bfa7019b8fe0c3c8314d8e189116e477a/confuse-1.1.0.tar.gz\n",
      "Requirement already satisfied: numpy>=1.16.0 in c:\\users\\suv\\anaconda3\\lib\\site-packages (from pandas_profiling) (1.18.2)\n",
      "Collecting htmlmin>=0.1.12 (from pandas_profiling)\n",
      "  Downloading https://files.pythonhosted.org/packages/b3/e7/fcd59e12169de19f0131ff2812077f964c6b960e7c09804d30a7bf2ab461/htmlmin-0.1.12.tar.gz\n",
      "Collecting phik>=0.9.10 (from pandas_profiling)\n",
      "  Downloading https://files.pythonhosted.org/packages/a7/86/572cecb01a104e0a12c002b0de74340fc6358aefa90cce39d5e2ffca2980/phik-0.9.12-py3-none-any.whl (610kB)\n",
      "Requirement already satisfied: joblib in c:\\users\\suv\\anaconda3\\lib\\site-packages (from pandas_profiling) (0.13.2)\n",
      "Collecting missingno>=0.4.2 (from pandas_profiling)\n",
      "  Downloading https://files.pythonhosted.org/packages/2b/de/6e4dd6d720c49939544352155dc06a08c9f7e4271aa631a559dfbeaaf9d4/missingno-0.4.2-py3-none-any.whl\n",
      "Collecting tqdm>=4.43.0 (from pandas_profiling)\n",
      "  Downloading https://files.pythonhosted.org/packages/c9/40/058b12e8ba10e35f89c9b1fdfc2d4c7f8c05947df2d5eb3c7b258019fda0/tqdm-4.46.0-py2.py3-none-any.whl (63kB)\n",
      "Collecting scipy>=1.4.1 (from pandas_profiling)\n",
      "  Downloading https://files.pythonhosted.org/packages/61/51/046cbc61c7607e5ecead6ff1a9453fba5e7e47a5ea8d608cc7036586a5ef/scipy-1.4.1-cp37-cp37m-win_amd64.whl (30.9MB)\n",
      "Collecting jinja2>=2.11.1 (from pandas_profiling)\n",
      "  Downloading https://files.pythonhosted.org/packages/30/9e/f663a2aa66a09d838042ae1a2c5659828bb9b41ea3a6efa20a20fd92b121/Jinja2-2.11.2-py2.py3-none-any.whl (125kB)\n",
      "Collecting visions[type_image_path]==0.4.4 (from pandas_profiling)\n",
      "  Downloading https://files.pythonhosted.org/packages/4a/03/5a45d542257830cf1d9da2cdc1c0bc6f55a9212937b70fdd6d7031b46d6c/visions-0.4.4-py3-none-any.whl (59kB)\n",
      "Collecting matplotlib>=3.2.0 (from pandas_profiling)\n",
      "  Downloading https://files.pythonhosted.org/packages/b4/4d/8a2c06cb69935bb762738a8b9d5f8ce2a66be5a1410787839b71e146f000/matplotlib-3.2.1-cp37-cp37m-win_amd64.whl (9.2MB)\n",
      "Collecting tangled-up-in-unicode>=0.0.6 (from pandas_profiling)\n",
      "  Downloading https://files.pythonhosted.org/packages/4a/e2/e588ab9298d4989ce7fdb2b97d18aac878d99dbdc379a4476a09d9271b68/tangled_up_in_unicode-0.0.6-py3-none-any.whl (3.1MB)\n",
      "Collecting requests>=2.23.0 (from pandas_profiling)\n",
      "  Downloading https://files.pythonhosted.org/packages/1a/70/1935c770cb3be6e3a8b78ced23d7e0f3b187f5cbfab4749523ed65d7c9b1/requests-2.23.0-py2.py3-none-any.whl (58kB)\n",
      "Requirement already satisfied: ipywidgets>=7.5.1 in c:\\users\\suv\\anaconda3\\lib\\site-packages (from pandas_profiling) (7.5.1)\n",
      "Collecting astropy>=4.0 (from pandas_profiling)\n",
      "  Downloading https://files.pythonhosted.org/packages/bc/15/0eb51474954e7e1e14aa8ba08611ecc9999e0499e3a300c5e8be95544416/astropy-4.0.1.post1-cp37-cp37m-win_amd64.whl (6.1MB)\n",
      "Collecting pandas!=1.0.0,!=1.0.1,!=1.0.2,>=0.25.3 (from pandas_profiling)\n",
      "  Downloading https://files.pythonhosted.org/packages/69/69/c35fbbc9bec374c44e9c800e491e914a521dc3926fc6cee80d4821771295/pandas-1.0.3-cp37-cp37m-win_amd64.whl (8.7MB)\n",
      "Requirement already satisfied: pyyaml in c:\\users\\suv\\anaconda3\\lib\\site-packages (from confuse>=1.0.0->pandas_profiling) (5.1.2)\n",
      "Requirement already satisfied: numba>=0.38.1 in c:\\users\\suv\\anaconda3\\lib\\site-packages (from phik>=0.9.10->pandas_profiling) (0.45.1)\n",
      "Requirement already satisfied: seaborn in c:\\users\\suv\\anaconda3\\lib\\site-packages (from missingno>=0.4.2->pandas_profiling) (0.9.0)\n",
      "Requirement already satisfied: MarkupSafe>=0.23 in c:\\users\\suv\\anaconda3\\lib\\site-packages (from jinja2>=2.11.1->pandas_profiling) (1.1.1)\n",
      "Collecting networkx>=2.4 (from visions[type_image_path]==0.4.4->pandas_profiling)\n",
      "  Downloading https://files.pythonhosted.org/packages/41/8f/dd6a8e85946def36e4f2c69c84219af0fa5e832b018c970e92f2ad337e45/networkx-2.4-py3-none-any.whl (1.6MB)\n",
      "Collecting attrs>=19.3.0 (from visions[type_image_path]==0.4.4->pandas_profiling)\n",
      "  Downloading https://files.pythonhosted.org/packages/a2/db/4313ab3be961f7a763066401fb77f7748373b6094076ae2bda2806988af6/attrs-19.3.0-py2.py3-none-any.whl\n",
      "Collecting imagehash; extra == \"type_image_path\" (from visions[type_image_path]==0.4.4->pandas_profiling)\n",
      "  Downloading https://files.pythonhosted.org/packages/1a/5d/cc81830be3c4705a46cdbca74439b67f1017881383ba0127c41c4cecb7b3/ImageHash-4.1.0.tar.gz (291kB)\n",
      "Requirement already satisfied: Pillow; extra == \"type_image_path\" in c:\\users\\suv\\anaconda3\\lib\\site-packages (from visions[type_image_path]==0.4.4->pandas_profiling) (6.2.0)\n",
      "Requirement already satisfied: kiwisolver>=1.0.1 in c:\\users\\suv\\anaconda3\\lib\\site-packages (from matplotlib>=3.2.0->pandas_profiling) (1.1.0)\n",
      "Requirement already satisfied: pyparsing!=2.0.4,!=2.1.2,!=2.1.6,>=2.0.1 in c:\\users\\suv\\anaconda3\\lib\\site-packages (from matplotlib>=3.2.0->pandas_profiling) (2.4.2)\n",
      "Requirement already satisfied: python-dateutil>=2.1 in c:\\users\\suv\\anaconda3\\lib\\site-packages (from matplotlib>=3.2.0->pandas_profiling) (2.8.0)\n",
      "Requirement already satisfied: cycler>=0.10 in c:\\users\\suv\\anaconda3\\lib\\site-packages (from matplotlib>=3.2.0->pandas_profiling) (0.10.0)\n",
      "Requirement already satisfied: idna<3,>=2.5 in c:\\users\\suv\\anaconda3\\lib\\site-packages (from requests>=2.23.0->pandas_profiling) (2.8)\n",
      "Requirement already satisfied: urllib3!=1.25.0,!=1.25.1,<1.26,>=1.21.1 in c:\\users\\suv\\anaconda3\\lib\\site-packages (from requests>=2.23.0->pandas_profiling) (1.24.2)\n",
      "Requirement already satisfied: chardet<4,>=3.0.2 in c:\\users\\suv\\anaconda3\\lib\\site-packages (from requests>=2.23.0->pandas_profiling) (3.0.4)\n",
      "Requirement already satisfied: certifi>=2017.4.17 in c:\\users\\suv\\anaconda3\\lib\\site-packages (from requests>=2.23.0->pandas_profiling) (2019.9.11)\n",
      "Requirement already satisfied: ipython>=4.0.0; python_version >= \"3.3\" in c:\\users\\suv\\anaconda3\\lib\\site-packages (from ipywidgets>=7.5.1->pandas_profiling) (7.8.0)\n",
      "Requirement already satisfied: nbformat>=4.2.0 in c:\\users\\suv\\anaconda3\\lib\\site-packages (from ipywidgets>=7.5.1->pandas_profiling) (4.4.0)\n",
      "Requirement already satisfied: ipykernel>=4.5.1 in c:\\users\\suv\\anaconda3\\lib\\site-packages (from ipywidgets>=7.5.1->pandas_profiling) (5.1.2)\n",
      "Requirement already satisfied: widgetsnbextension~=3.5.0 in c:\\users\\suv\\anaconda3\\lib\\site-packages (from ipywidgets>=7.5.1->pandas_profiling) (3.5.1)\n",
      "Requirement already satisfied: traitlets>=4.3.1 in c:\\users\\suv\\anaconda3\\lib\\site-packages (from ipywidgets>=7.5.1->pandas_profiling) (4.3.3)\n",
      "Requirement already satisfied: pytz>=2017.2 in c:\\users\\suv\\anaconda3\\lib\\site-packages (from pandas!=1.0.0,!=1.0.1,!=1.0.2,>=0.25.3->pandas_profiling) (2019.3)\n",
      "Requirement already satisfied: llvmlite>=0.29.0dev0 in c:\\users\\suv\\anaconda3\\lib\\site-packages (from numba>=0.38.1->phik>=0.9.10->pandas_profiling) (0.29.0)\n",
      "Requirement already satisfied: decorator>=4.3.0 in c:\\users\\suv\\anaconda3\\lib\\site-packages (from networkx>=2.4->visions[type_image_path]==0.4.4->pandas_profiling) (4.4.0)\n",
      "Requirement already satisfied: six in c:\\users\\suv\\anaconda3\\lib\\site-packages (from imagehash; extra == \"type_image_path\"->visions[type_image_path]==0.4.4->pandas_profiling) (1.12.0)\n",
      "Requirement already satisfied: PyWavelets in c:\\users\\suv\\anaconda3\\lib\\site-packages (from imagehash; extra == \"type_image_path\"->visions[type_image_path]==0.4.4->pandas_profiling) (1.0.3)\n",
      "Requirement already satisfied: setuptools in c:\\users\\suv\\anaconda3\\lib\\site-packages (from kiwisolver>=1.0.1->matplotlib>=3.2.0->pandas_profiling) (41.4.0)\n",
      "Requirement already satisfied: jedi>=0.10 in c:\\users\\suv\\anaconda3\\lib\\site-packages (from ipython>=4.0.0; python_version >= \"3.3\"->ipywidgets>=7.5.1->pandas_profiling) (0.15.1)\n",
      "Requirement already satisfied: backcall in c:\\users\\suv\\anaconda3\\lib\\site-packages (from ipython>=4.0.0; python_version >= \"3.3\"->ipywidgets>=7.5.1->pandas_profiling) (0.1.0)\n",
      "Requirement already satisfied: colorama; sys_platform == \"win32\" in c:\\users\\suv\\anaconda3\\lib\\site-packages (from ipython>=4.0.0; python_version >= \"3.3\"->ipywidgets>=7.5.1->pandas_profiling) (0.4.1)\n",
      "Requirement already satisfied: prompt-toolkit<2.1.0,>=2.0.0 in c:\\users\\suv\\anaconda3\\lib\\site-packages (from ipython>=4.0.0; python_version >= \"3.3\"->ipywidgets>=7.5.1->pandas_profiling) (2.0.10)\n",
      "Requirement already satisfied: pygments in c:\\users\\suv\\anaconda3\\lib\\site-packages (from ipython>=4.0.0; python_version >= \"3.3\"->ipywidgets>=7.5.1->pandas_profiling) (2.4.2)\n",
      "Requirement already satisfied: pickleshare in c:\\users\\suv\\anaconda3\\lib\\site-packages (from ipython>=4.0.0; python_version >= \"3.3\"->ipywidgets>=7.5.1->pandas_profiling) (0.7.5)\n",
      "Requirement already satisfied: jupyter-core in c:\\users\\suv\\anaconda3\\lib\\site-packages (from nbformat>=4.2.0->ipywidgets>=7.5.1->pandas_profiling) (4.5.0)\n",
      "Requirement already satisfied: ipython-genutils in c:\\users\\suv\\anaconda3\\lib\\site-packages (from nbformat>=4.2.0->ipywidgets>=7.5.1->pandas_profiling) (0.2.0)\n",
      "Requirement already satisfied: jsonschema!=2.5.0,>=2.4 in c:\\users\\suv\\anaconda3\\lib\\site-packages (from nbformat>=4.2.0->ipywidgets>=7.5.1->pandas_profiling) (3.0.2)\n",
      "Requirement already satisfied: jupyter-client in c:\\users\\suv\\anaconda3\\lib\\site-packages (from ipykernel>=4.5.1->ipywidgets>=7.5.1->pandas_profiling) (5.3.3)\n",
      "Requirement already satisfied: tornado>=4.2 in c:\\users\\suv\\anaconda3\\lib\\site-packages (from ipykernel>=4.5.1->ipywidgets>=7.5.1->pandas_profiling) (6.0.3)\n",
      "Requirement already satisfied: notebook>=4.4.1 in c:\\users\\suv\\anaconda3\\lib\\site-packages (from widgetsnbextension~=3.5.0->ipywidgets>=7.5.1->pandas_profiling) (6.0.1)\n",
      "Requirement already satisfied: parso>=0.5.0 in c:\\users\\suv\\anaconda3\\lib\\site-packages (from jedi>=0.10->ipython>=4.0.0; python_version >= \"3.3\"->ipywidgets>=7.5.1->pandas_profiling) (0.5.1)\n",
      "Requirement already satisfied: wcwidth in c:\\users\\suv\\anaconda3\\lib\\site-packages (from prompt-toolkit<2.1.0,>=2.0.0->ipython>=4.0.0; python_version >= \"3.3\"->ipywidgets>=7.5.1->pandas_profiling) (0.1.7)\n",
      "Requirement already satisfied: pyrsistent>=0.14.0 in c:\\users\\suv\\anaconda3\\lib\\site-packages (from jsonschema!=2.5.0,>=2.4->nbformat>=4.2.0->ipywidgets>=7.5.1->pandas_profiling) (0.15.4)\n",
      "Requirement already satisfied: pyzmq>=13 in c:\\users\\suv\\anaconda3\\lib\\site-packages (from jupyter-client->ipykernel>=4.5.1->ipywidgets>=7.5.1->pandas_profiling) (18.1.0)\n",
      "Requirement already satisfied: pywin32>=1.0; sys_platform == \"win32\" in c:\\users\\suv\\anaconda3\\lib\\site-packages (from jupyter-client->ipykernel>=4.5.1->ipywidgets>=7.5.1->pandas_profiling) (223)\n",
      "Requirement already satisfied: prometheus-client in c:\\users\\suv\\anaconda3\\lib\\site-packages (from notebook>=4.4.1->widgetsnbextension~=3.5.0->ipywidgets>=7.5.1->pandas_profiling) (0.7.1)\n",
      "Requirement already satisfied: Send2Trash in c:\\users\\suv\\anaconda3\\lib\\site-packages (from notebook>=4.4.1->widgetsnbextension~=3.5.0->ipywidgets>=7.5.1->pandas_profiling) (1.5.0)\n",
      "Requirement already satisfied: nbconvert in c:\\users\\suv\\anaconda3\\lib\\site-packages (from notebook>=4.4.1->widgetsnbextension~=3.5.0->ipywidgets>=7.5.1->pandas_profiling) (5.6.0)\n",
      "Requirement already satisfied: terminado>=0.8.1 in c:\\users\\suv\\anaconda3\\lib\\site-packages (from notebook>=4.4.1->widgetsnbextension~=3.5.0->ipywidgets>=7.5.1->pandas_profiling) (0.8.2)\n",
      "Requirement already satisfied: mistune<2,>=0.8.1 in c:\\users\\suv\\anaconda3\\lib\\site-packages (from nbconvert->notebook>=4.4.1->widgetsnbextension~=3.5.0->ipywidgets>=7.5.1->pandas_profiling) (0.8.4)\n",
      "Requirement already satisfied: defusedxml in c:\\users\\suv\\anaconda3\\lib\\site-packages (from nbconvert->notebook>=4.4.1->widgetsnbextension~=3.5.0->ipywidgets>=7.5.1->pandas_profiling) (0.6.0)\n",
      "Requirement already satisfied: bleach in c:\\users\\suv\\anaconda3\\lib\\site-packages (from nbconvert->notebook>=4.4.1->widgetsnbextension~=3.5.0->ipywidgets>=7.5.1->pandas_profiling) (3.1.0)\n",
      "Requirement already satisfied: entrypoints>=0.2.2 in c:\\users\\suv\\anaconda3\\lib\\site-packages (from nbconvert->notebook>=4.4.1->widgetsnbextension~=3.5.0->ipywidgets>=7.5.1->pandas_profiling) (0.3)\n",
      "Requirement already satisfied: testpath in c:\\users\\suv\\anaconda3\\lib\\site-packages (from nbconvert->notebook>=4.4.1->widgetsnbextension~=3.5.0->ipywidgets>=7.5.1->pandas_profiling) (0.4.2)\n",
      "Requirement already satisfied: pandocfilters>=1.4.1 in c:\\users\\suv\\anaconda3\\lib\\site-packages (from nbconvert->notebook>=4.4.1->widgetsnbextension~=3.5.0->ipywidgets>=7.5.1->pandas_profiling) (1.4.2)\n",
      "Requirement already satisfied: webencodings in c:\\users\\suv\\anaconda3\\lib\\site-packages (from bleach->nbconvert->notebook>=4.4.1->widgetsnbextension~=3.5.0->ipywidgets>=7.5.1->pandas_profiling) (0.5.1)\n",
      "Building wheels for collected packages: confuse, htmlmin, imagehash\n",
      "  Building wheel for confuse (setup.py): started\n",
      "  Building wheel for confuse (setup.py): finished with status 'done'\n",
      "  Created wheel for confuse: filename=confuse-1.1.0-cp37-none-any.whl size=17577 sha256=2281c08f78a2646a148ac9f69ed3d8798c2436ce12660d6883dd8c88498afac9\n",
      "  Stored in directory: C:\\Users\\SUV\\AppData\\Local\\pip\\Cache\\wheels\\f6\\8b\\23\\41a1b516f6d8d4cc81f5bdb55394a47cdbe9659c53668d3c9e\n",
      "  Building wheel for htmlmin (setup.py): started\n",
      "  Building wheel for htmlmin (setup.py): finished with status 'done'\n",
      "  Created wheel for htmlmin: filename=htmlmin-0.1.12-cp37-none-any.whl size=27090 sha256=b7b0015c875a59ddb8511640ef1972d4fa4f1d539bbb5988a5f90f745ab76fa6\n",
      "  Stored in directory: C:\\Users\\SUV\\AppData\\Local\\pip\\Cache\\wheels\\43\\07\\ac\\7c5a9d708d65247ac1f94066cf1db075540b85716c30255459\n",
      "  Building wheel for imagehash (setup.py): started\n",
      "  Building wheel for imagehash (setup.py): finished with status 'done'\n",
      "  Created wheel for imagehash: filename=ImageHash-4.1.0-py2.py3-none-any.whl size=291997 sha256=6ccac9aebd992a17b180860a46d868ef31552d02a6782874ac6274c72aefc6ed\n",
      "  Stored in directory: C:\\Users\\SUV\\AppData\\Local\\pip\\Cache\\wheels\\07\\1c\\dc\\6831446f09feb8cc199ec73a0f2f0703253f6ae013a22f4be9\n",
      "Successfully built confuse htmlmin imagehash\n",
      "Installing collected packages: confuse, htmlmin, pandas, matplotlib, scipy, phik, missingno, tqdm, jinja2, networkx, attrs, tangled-up-in-unicode, imagehash, visions, requests, astropy, pandas-profiling\n",
      "  Found existing installation: pandas 0.25.1\n",
      "    Uninstalling pandas-0.25.1:\n",
      "      Successfully uninstalled pandas-0.25.1\n",
      "Note: you may need to restart the kernel to use updated packages.\n"
     ]
    },
    {
     "name": "stderr",
     "output_type": "stream",
     "text": [
      "ERROR: phik 0.9.12 has requirement joblib>=0.14.1, but you'll have joblib 0.13.2 which is incompatible.\n",
      "ERROR: Could not install packages due to an EnvironmentError: [WinError 5] Access is denied: 'c:\\\\users\\\\suv\\\\anaconda3\\\\lib\\\\site-packages\\\\~andas\\\\io\\\\msgpack\\\\_packer.cp37-win_amd64.pyd'\n",
      "Consider using the `--user` option or check the permissions.\n",
      "\n"
     ]
    }
   ],
   "source": [
    "pip install pandas_profiling"
   ]
  },
  {
   "cell_type": "code",
   "execution_count": 6,
   "metadata": {},
   "outputs": [],
   "source": [
    "%matplotlib notebook"
   ]
  },
  {
   "cell_type": "code",
   "execution_count": 7,
   "metadata": {},
   "outputs": [
    {
     "ename": "ModuleNotFoundError",
     "evalue": "No module named 'pandas_profiling'",
     "output_type": "error",
     "traceback": [
      "\u001b[1;31m---------------------------------------------------------------------------\u001b[0m",
      "\u001b[1;31mModuleNotFoundError\u001b[0m                       Traceback (most recent call last)",
      "\u001b[1;32m<ipython-input-7-ff3d59494be1>\u001b[0m in \u001b[0;36m<module>\u001b[1;34m\u001b[0m\n\u001b[0;32m      7\u001b[0m \u001b[1;32mfrom\u001b[0m \u001b[0mdatetime\u001b[0m \u001b[1;32mimport\u001b[0m \u001b[0mdatetime\u001b[0m\u001b[1;33m\u001b[0m\u001b[1;33m\u001b[0m\u001b[0m\n\u001b[0;32m      8\u001b[0m \u001b[1;32mimport\u001b[0m \u001b[0mpandas\u001b[0m \u001b[1;32mas\u001b[0m \u001b[0mpd\u001b[0m\u001b[1;33m\u001b[0m\u001b[1;33m\u001b[0m\u001b[0m\n\u001b[1;32m----> 9\u001b[1;33m \u001b[1;32mfrom\u001b[0m \u001b[0mpandas_profiling\u001b[0m \u001b[1;32mimport\u001b[0m \u001b[0mProfileReport\u001b[0m\u001b[1;33m\u001b[0m\u001b[1;33m\u001b[0m\u001b[0m\n\u001b[0m",
      "\u001b[1;31mModuleNotFoundError\u001b[0m: No module named 'pandas_profiling'"
     ]
    }
   ],
   "source": [
    "# Dependencies and Setup\n",
    "import matplotlib.pyplot as plt\n",
    "import pandas as pd\n",
    "import numpy as np\n",
    "import scipy.stats as st\n",
    "import csv\n",
    "from datetime import datetime\n",
    "import pandas as pd\n",
    "from pandas_profiling import ProfileReport\n"
   ]
  },
  {
   "cell_type": "code",
   "execution_count": null,
   "metadata": {},
   "outputs": [],
   "source": [
    "# Clock the time to run the process\n",
    "start_time = datetime.now()"
   ]
  },
  {
   "cell_type": "code",
   "execution_count": null,
   "metadata": {},
   "outputs": [],
   "source": [
    "# Data files\n",
    "mls_collin = \"mls_full_extract.csv\""
   ]
  },
  {
   "cell_type": "code",
   "execution_count": 4,
   "metadata": {},
   "outputs": [
    {
     "ename": "NameError",
     "evalue": "name 'mls_collin' is not defined",
     "output_type": "error",
     "traceback": [
      "\u001b[1;31m---------------------------------------------------------------------------\u001b[0m",
      "\u001b[1;31mNameError\u001b[0m                                 Traceback (most recent call last)",
      "\u001b[1;32m<ipython-input-4-7a1ef1a04212>\u001b[0m in \u001b[0;36m<module>\u001b[1;34m\u001b[0m\n\u001b[0;32m      1\u001b[0m \u001b[1;31m# Read the mouse data and the study results\u001b[0m\u001b[1;33m\u001b[0m\u001b[1;33m\u001b[0m\u001b[1;33m\u001b[0m\u001b[0m\n\u001b[1;32m----> 2\u001b[1;33m \u001b[0mmls_collin_df\u001b[0m \u001b[1;33m=\u001b[0m \u001b[0mpd\u001b[0m\u001b[1;33m.\u001b[0m\u001b[0mread_csv\u001b[0m\u001b[1;33m(\u001b[0m\u001b[0mmls_collin\u001b[0m\u001b[1;33m,\u001b[0m \u001b[0mlow_memory\u001b[0m\u001b[1;33m=\u001b[0m\u001b[1;32mFalse\u001b[0m\u001b[1;33m)\u001b[0m\u001b[1;33m\u001b[0m\u001b[1;33m\u001b[0m\u001b[0m\n\u001b[0m",
      "\u001b[1;31mNameError\u001b[0m: name 'mls_collin' is not defined"
     ]
    }
   ],
   "source": [
    "# Read the mouse data and the study results\n",
    "mls_collin_df = pd.read_csv(mls_collin, low_memory=False)"
   ]
  },
  {
   "cell_type": "code",
   "execution_count": null,
   "metadata": {},
   "outputs": [
    {
     "data": {
      "application/vnd.jupyter.widget-view+json": {
       "model_id": "0931da4886e145ccbde012610a94b9ec",
       "version_major": 2,
       "version_minor": 0
      },
      "text/plain": [
       "HBox(children=(FloatProgress(value=0.0, description='Summarize dataset', max=261.0, style=ProgressStyle(descri…"
      ]
     },
     "metadata": {},
     "output_type": "display_data"
    }
   ],
   "source": [
    "#import the packages \n",
    "#mls = pd.read_csv(\"../divergent_real_estate/data/output/mls.csv\", low_memory=False)\n",
    "#profile=ProfileReport(mls_collin_df,title='Collin County RE Data Analysis - Before')\n",
    "#profile.to_file(\"../divergent_real_estate/data/output/Collin_County_RE_Data_Analysis-Before.html\")"
   ]
  },
  {
   "cell_type": "code",
   "execution_count": null,
   "metadata": {
    "scrolled": true
   },
   "outputs": [],
   "source": [
    "# reduce columns to a more usable data set from base extract of 245 columns\n",
    "mls_collin_columnreduce = mls_collin_df.iloc[: , \n",
    "[\n",
    "0,19,21,28,29,30,42,48,50,72,73,105,125,126,128,135,137,142,147,153,161,167,\n",
    "177,184,185,188,193,198,207,216,221,222,223,224,225,226,230,245\n",
    "]].copy() \n",
    "mls_collin_columnreduce.head(1)"
   ]
  },
  {
   "cell_type": "code",
   "execution_count": null,
   "metadata": {},
   "outputs": [],
   "source": [
    "# Show dataframe with all 245 columns to compare after we reduce data set columns to 50~ columns \n",
    "mls_collin_columnreduce.head(1)"
   ]
  },
  {
   "cell_type": "code",
   "execution_count": null,
   "metadata": {},
   "outputs": [],
   "source": [
    "# Export file as a CSV, without the Pandas index, but with the header\n",
    "mls_collin_columnreduce.to_csv(\"../divergent_real_estate/data/output/mls_collin_columnreduce.csv\", index=False, header=True)"
   ]
  },
  {
   "cell_type": "code",
   "execution_count": null,
   "metadata": {},
   "outputs": [],
   "source": [
    "# Making data frame from csv file \n",
    "data = pd.read_csv(\"../divergent_real_estate/data/output/mls_collin_columnreduce.csv\", low_memory=False) "
   ]
  },
  {
   "cell_type": "code",
   "execution_count": null,
   "metadata": {},
   "outputs": [],
   "source": [
    "# Creating a bool series from isin() to reduce the dataset to only USPS zipcodes for collin county as \n",
    "# basefile had zip codes not in collin county\n",
    "new = data[\"PostalCode\"].isin([\"75002\",\"75009\",\"75013\",\"75023\",\"75024\",\"75025\",\"75033\",\"75034\",\"75035\",\n",
    "                               \"75069\",\"75070\",\"75071\",\"75072\",\"75074\",\"75075\",\"75078\",\"75093\",\"75094\", \n",
    "                               \"75097\",\"75098\",\"75121\",\"75164\",\"75166\",\"75173\",\"75189\",\"75252\",\"75287\",                                \n",
    "                               \"75407\",\"75409\",\"75424\",\"75442\",\"75454\"]) "
   ]
  },
  {
   "cell_type": "code",
   "execution_count": null,
   "metadata": {},
   "outputs": [],
   "source": [
    "# Show dataframe with the new 50~ columns to compare to the above data set with 245 columns \n",
    "data.head(1)"
   ]
  },
  {
   "cell_type": "code",
   "execution_count": null,
   "metadata": {},
   "outputs": [],
   "source": [
    "# displaying data \n",
    "data[new] "
   ]
  },
  {
   "cell_type": "code",
   "execution_count": null,
   "metadata": {},
   "outputs": [],
   "source": [
    "# Move data to mls variable\n",
    "mls = data[new]"
   ]
  },
  {
   "cell_type": "code",
   "execution_count": null,
   "metadata": {},
   "outputs": [],
   "source": [
    "# Creating a bool series from isin() to reduce the dataset to only 5 cities\n",
    "new1 = mls[\"City\"].isin([\"Frisco\",\"Plano\",\"McKinney\",\"Prosper\",\"Fairview\"]) "
   ]
  },
  {
   "cell_type": "code",
   "execution_count": null,
   "metadata": {},
   "outputs": [],
   "source": [
    "# displaying data \n",
    "mls[new1] "
   ]
  },
  {
   "cell_type": "code",
   "execution_count": null,
   "metadata": {},
   "outputs": [],
   "source": [
    "# Move data to mls variable\n",
    "mls_cz = mls[new1]"
   ]
  },
  {
   "cell_type": "code",
   "execution_count": null,
   "metadata": {},
   "outputs": [],
   "source": [
    "# reduced file prior to populating NaN fields\n",
    "#mls = pd.read_csv(\"../divergent_real_estate/data/output/mls.csv\", low_memory=False)\n",
    "#profile=ProfileReport(mls_cz,title='Collin County RE Data Analysis - Before')\n",
    "#profile.to_file(\"../divergent_real_estate/data/output/Collin_County_RE_Data_Analysis-Before.html\")"
   ]
  },
  {
   "cell_type": "code",
   "execution_count": null,
   "metadata": {},
   "outputs": [],
   "source": [
    "# Using Interpolate to populate numeric fields with a value that is more appropriate than zero.\n",
    "mls_cz.interpolate(method='linear', axis=0, limit=None, inplace=True, limit_direction='forward', limit_area=None, downcast=None)"
   ]
  },
  {
   "cell_type": "code",
   "execution_count": null,
   "metadata": {},
   "outputs": [],
   "source": [
    "mls = mls_cz "
   ]
  },
  {
   "cell_type": "code",
   "execution_count": null,
   "metadata": {},
   "outputs": [],
   "source": [
    "# Replacing nan values in AssociationType with None  \n",
    "mls[\"AssociationType\"].fillna(\"None\", inplace = True) \n",
    "mls_fs = mls"
   ]
  },
  {
   "cell_type": "code",
   "execution_count": null,
   "metadata": {},
   "outputs": [],
   "source": [
    "# Replace remaining NaN fields across the data set with UnKnown\n",
    "mls = mls_fs.replace(to_replace = np.nan, value = 'Unknown') "
   ]
  },
  {
   "cell_type": "code",
   "execution_count": null,
   "metadata": {},
   "outputs": [],
   "source": [
    "mls.info()"
   ]
  },
  {
   "cell_type": "code",
   "execution_count": null,
   "metadata": {},
   "outputs": [],
   "source": [
    "mls.describe()"
   ]
  },
  {
   "cell_type": "code",
   "execution_count": null,
   "metadata": {},
   "outputs": [],
   "source": []
  },
  {
   "cell_type": "code",
   "execution_count": null,
   "metadata": {},
   "outputs": [],
   "source": []
  },
  {
   "cell_type": "code",
   "execution_count": null,
   "metadata": {},
   "outputs": [],
   "source": []
  },
  {
   "cell_type": "code",
   "execution_count": null,
   "metadata": {},
   "outputs": [],
   "source": []
  },
  {
   "cell_type": "code",
   "execution_count": null,
   "metadata": {},
   "outputs": [],
   "source": []
  },
  {
   "cell_type": "code",
   "execution_count": null,
   "metadata": {},
   "outputs": [],
   "source": []
  },
  {
   "cell_type": "code",
   "execution_count": null,
   "metadata": {},
   "outputs": [],
   "source": []
  },
  {
   "cell_type": "code",
   "execution_count": null,
   "metadata": {},
   "outputs": [],
   "source": []
  },
  {
   "cell_type": "code",
   "execution_count": null,
   "metadata": {},
   "outputs": [],
   "source": []
  },
  {
   "cell_type": "code",
   "execution_count": null,
   "metadata": {},
   "outputs": [],
   "source": []
  },
  {
   "cell_type": "code",
   "execution_count": null,
   "metadata": {},
   "outputs": [],
   "source": []
  },
  {
   "cell_type": "code",
   "execution_count": null,
   "metadata": {},
   "outputs": [],
   "source": [
    "# Move data frame to csv file that will be input into postgres DB\n",
    "mls.to_csv(\"../divergent_real_estate/data/output/mls.csv\", index=False, header=True)"
   ]
  },
  {
   "cell_type": "code",
   "execution_count": null,
   "metadata": {},
   "outputs": [],
   "source": [
    "#import the packages \n",
    "#mls = pd.read_csv(\"../divergent_real_estate/data/output/mls.csv\", low_memory=False)\n",
    "#profile=ProfileReport(mls,title='Collin County RE Data Analysis - After')\n",
    "#profile.to_file(\"../divergent_real_estate/data/output/Collin_County_RE_Data_Analysis-After.html\")"
   ]
  },
  {
   "cell_type": "code",
   "execution_count": null,
   "metadata": {},
   "outputs": [],
   "source": [
    "# generating one row  \n",
    "rows = mls.sample(frac =.20) \n",
    "  \n",
    "# checking if sample is 0.50 times data or not \n",
    "if (0.50*(len(data))== len(rows)): \n",
    "    print( \"Cool\") \n",
    "    print(len(data), len(rows)) "
   ]
  },
  {
   "cell_type": "code",
   "execution_count": null,
   "metadata": {},
   "outputs": [],
   "source": [
    "# Move data frame to csv file that will be input into postgres DB\n",
    "rows.to_csv(\"../divergent_real_estate/data/output/mls_sample_20.csv\", index=False, header=True)"
   ]
  },
  {
   "cell_type": "code",
   "execution_count": null,
   "metadata": {},
   "outputs": [],
   "source": [
    "# Provides start, end and elapsed time to run the program.\n",
    "end_time = datetime.now()\n",
    "print('\\nStart time', start_time)\n",
    "print('End time', end_time)\n",
    "print('Time elapsed', end_time - start_time)"
   ]
  },
  {
   "cell_type": "code",
   "execution_count": null,
   "metadata": {},
   "outputs": [],
   "source": []
  }
 ],
 "metadata": {
  "anaconda-cloud": {},
  "kernelspec": {
   "display_name": "Python 3",
   "language": "python",
   "name": "python3"
  },
  "language_info": {
   "codemirror_mode": {
    "name": "ipython",
    "version": 3
   },
   "file_extension": ".py",
   "mimetype": "text/x-python",
   "name": "python",
   "nbconvert_exporter": "python",
   "pygments_lexer": "ipython3",
   "version": "3.7.4"
  }
 },
 "nbformat": 4,
 "nbformat_minor": 2
}
